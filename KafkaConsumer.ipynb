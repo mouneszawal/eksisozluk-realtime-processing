{
 "cells": [
  {
   "cell_type": "code",
   "execution_count": 12,
   "id": "b6675043",
   "metadata": {},
   "outputs": [],
   "source": [
    "from kafka import KafkaConsumer\n",
    "from time import sleep\n",
    "from json import dumps,loads\n",
    "import json\n",
    "from s3fs import S3FileSystem"
   ]
  },
  {
   "cell_type": "code",
   "execution_count": 14,
   "id": "7b811cb6",
   "metadata": {},
   "outputs": [],
   "source": [
    "import time\n",
    "import boto3\n",
    "import json\n",
    "\n",
    "def upload_to_s3(bucket_name, file_name, data):\n",
    "    \"\"\"\n",
    "    Upload data to S3 using boto3.\n",
    "    :param bucket_name: Name of the S3 bucket.\n",
    "    :param file_name: Name of the file to upload.\n",
    "    :param data: Data to write (must be JSON serializable).\n",
    "    \"\"\"\n",
    "    s3 = boto3.client(\"s3\")\n",
    "    s3.put_object(\n",
    "        Bucket=bucket_name,\n",
    "        Key=file_name,\n",
    "        Body=json.dumps(data),\n",
    "        ContentType=\"application/json\"\n",
    "    )\n",
    "    print(f\"File uploaded to s3://{bucket_name}/{file_name}\")\n",
    "    \n",
    "consumer = KafkaConsumer(\n",
    "    'demo_testing2',\n",
    "    bootstrap_servers=['{Public IP}:9092'],\n",
    "    value_deserializer=lambda x: json.loads(x.decode('utf-8')),\n",
    ")\n",
    "\n",
    "# S3 setup\n",
    "s3 = S3FileSystem()\n",
    "def consume_and_store(consumer, s3):\n",
    "    \"\"\"\n",
    "    Consume data from Kafka and store it in S3.\n",
    "    \"\"\"\n",
    "    for message in consumer:\n",
    "        if message:\n",
    "            data = message.value\n",
    "            print(f\"Consumed from Kafka: {data['topic_name']}\")\n",
    "\n",
    "            # Save to S3\n",
    "            file_path = f\"s3://bucket name/eksisozluk_{int(time.time())}.json\"\n",
    "            # with s3.open(file_path, 'w') as file:\n",
    "            #     json.dump(data, file)\n",
    "            upload_to_s3('{bucket name}', f'eksisozluk_{int(time.time())}.json', data)\n",
    "            print(f\"Saved to S3: {file_path}\")\n",
    "            time.sleep(0.3)\n",
    "        else:\n",
    "            print(\"NO DATA\")\n",
    "\n",
    "        # Stop consuming after one message (remove break for continuous consumption)"
   ]
  },
  {
   "cell_type": "code",
   "execution_count": null,
   "id": "338ff3ef",
   "metadata": {},
   "outputs": [],
   "source": [
    "consume_and_store(consumer=consumer,s3=s3)"
   ]
  }
 ],
 "metadata": {
  "kernelspec": {
   "display_name": "Python 3",
   "language": "python",
   "name": "python3"
  },
  "language_info": {
   "codemirror_mode": {
    "name": "ipython",
    "version": 3
   },
   "file_extension": ".py",
   "mimetype": "text/x-python",
   "name": "python",
   "nbconvert_exporter": "python",
   "pygments_lexer": "ipython3",
   "version": "3.9.4"
  }
 },
 "nbformat": 4,
 "nbformat_minor": 5
}
